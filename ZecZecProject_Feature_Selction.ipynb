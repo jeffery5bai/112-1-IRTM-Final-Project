{
 "cells": [
  {
   "cell_type": "markdown",
   "id": "76d2c510-6d90-4852-9acf-5fdaa0eee8be",
   "metadata": {},
   "source": [
    "## Setup"
   ]
  },
  {
   "cell_type": "code",
   "execution_count": 1,
   "id": "9ba989a1-774f-4d41-9ce4-2a5ca6f77ee9",
   "metadata": {},
   "outputs": [],
   "source": [
    "import numpy as np\n",
    "import pandas as pd"
   ]
  },
  {
   "cell_type": "code",
   "execution_count": 2,
   "id": "2bcf087d-cd2b-4af7-97d5-7f5b90f2af8f",
   "metadata": {},
   "outputs": [
    {
     "data": {
      "text/plain": [
       "Index(['id', 'title', 'category', 'duration', 'desc', 'text', 'color_text',\n",
       "       'bold_text', 'hyper_text', 'img_list', 'success_x', 'img_text',\n",
       "       'success_y'],\n",
       "      dtype='object')"
      ]
     },
     "execution_count": 2,
     "metadata": {},
     "output_type": "execute_result"
    }
   ],
   "source": [
    "df = pd.read_csv(\"TokenizedProjectData_all.csv\")\n",
    "df = df.replace(np.nan, \" \")\n",
    "df.columns"
   ]
  },
  {
   "cell_type": "code",
   "execution_count": 3,
   "id": "7babfdbe-127b-4da4-bf56-d17977038348",
   "metadata": {},
   "outputs": [
    {
     "data": {
      "text/plain": [
       "(5612, 13)"
      ]
     },
     "execution_count": 3,
     "metadata": {},
     "output_type": "execute_result"
    }
   ],
   "source": [
    "df.shape"
   ]
  },
  {
   "cell_type": "code",
   "execution_count": 4,
   "id": "4a2d24e7-ec7b-4a90-be45-220c25161b5f",
   "metadata": {},
   "outputs": [
    {
     "data": {
      "text/plain": [
       "Index(['id', 'title', 'category', 'duration', 'desc', 'text', 'color_text',\n",
       "       'bold_text', 'hyper_text', 'img_list', 'success_x', 'img_text',\n",
       "       'success_y', 'merged_content_text'],\n",
       "      dtype='object')"
      ]
     },
     "execution_count": 4,
     "metadata": {},
     "output_type": "execute_result"
    }
   ],
   "source": [
    "df['merged_content_text'] = df['title'] + ' ' + df['desc'] + ' ' + df['text'] +' '+df['img_text']\n",
    "df.columns"
   ]
  },
  {
   "cell_type": "code",
   "execution_count": 7,
   "id": "47285c40-72e3-4a94-9e01-369e92777e61",
   "metadata": {},
   "outputs": [
    {
     "data": {
      "text/plain": [
       "(5612, 3)"
      ]
     },
     "execution_count": 7,
     "metadata": {},
     "output_type": "execute_result"
    }
   ],
   "source": [
    "df = df[['id', 'merged_content_text', 'success_x']]\n",
    "df = df.dropna(subset=['merged_content_text'])\n",
    "df.shape"
   ]
  },
  {
   "cell_type": "markdown",
   "id": "e361ef31-a229-470e-9b6a-5a36311481a0",
   "metadata": {},
   "source": [
    "### Tokenized"
   ]
  },
  {
   "cell_type": "code",
   "execution_count": 261,
   "id": "bc048793-de65-4d88-9b20-f5c33638f986",
   "metadata": {},
   "outputs": [],
   "source": [
    "from sklearn.feature_extraction.text import TfidfVectorizer"
   ]
  },
  {
   "cell_type": "code",
   "execution_count": 202,
   "id": "2885d996-fe65-4aee-badc-eee5b5146054",
   "metadata": {},
   "outputs": [
    {
     "name": "stderr",
     "output_type": "stream",
     "text": [
      "C:\\Users\\user\\anaconda3\\lib\\site-packages\\sklearn\\utils\\deprecation.py:87: FutureWarning: Function get_feature_names is deprecated; get_feature_names is deprecated in 1.0 and will be removed in 1.2. Please use get_feature_names_out instead.\n",
      "  warnings.warn(msg, category=FutureWarning)\n"
     ]
    }
   ],
   "source": [
    "# initialize\n",
    "tfidf_vectorizer = TfidfVectorizer(max_features=8000)\n",
    "\n",
    "# TF-IDF\n",
    "tfidf_vectors = tfidf_vectorizer.fit_transform(df['merged_content_text'])\n",
    "tfidf_vectors_df = pd.DataFrame(tfidf_vectors.toarray(), columns=tfidf_vectorizer.get_feature_names())\n",
    "\n",
    "df_tfidf = pd.concat([tfidf_vectors_df, df['success_x']], axis=1)"
   ]
  },
  {
   "cell_type": "code",
   "execution_count": 203,
   "id": "9c84fc56-7b07-4b18-bb83-6093b37d1391",
   "metadata": {},
   "outputs": [
    {
     "name": "stdout",
     "output_type": "stream",
     "text": [
      "(5612, 8000)\n"
     ]
    }
   ],
   "source": [
    "print(tfidf_vectors_df.shape)"
   ]
  },
  {
   "cell_type": "code",
   "execution_count": 205,
   "id": "77c82cf8-3a1b-4bf4-88b4-a5219f4bc66c",
   "metadata": {},
   "outputs": [
    {
     "data": {
      "text/plain": [
       "(5612, 8001)"
      ]
     },
     "execution_count": 205,
     "metadata": {},
     "output_type": "execute_result"
    }
   ],
   "source": [
    "df_tfidf = df_tfidf.dropna()\n",
    "df_tfidf.shape"
   ]
  },
  {
   "cell_type": "markdown",
   "id": "5ebb76c6-581b-4785-946b-d5d0f6117a28",
   "metadata": {},
   "source": [
    "## Feature selection\n",
    "> *Selecting feature with tfidf > threshold*"
   ]
  },
  {
   "cell_type": "code",
   "execution_count": 206,
   "id": "baaa51e3-1254-4a0e-8ada-10f4d2314378",
   "metadata": {},
   "outputs": [
    {
     "name": "stdout",
     "output_type": "stream",
     "text": [
      "5.2984289748366376\n"
     ]
    }
   ],
   "source": [
    "# sort tfidf\n",
    "tfidf_sum_list = tfidf_vectors_df.sum().to_list()\n",
    "tfidf_sum_list.sort()\n",
    "threshold = tfidf_sum_list[5000]\n",
    "print(threshold)"
   ]
  },
  {
   "cell_type": "code",
   "execution_count": 207,
   "id": "a5701d49-79c1-4db4-80e9-6b79eac51de2",
   "metadata": {},
   "outputs": [],
   "source": [
    "# keep data above threshold\n",
    "keep_col = []\n",
    "for col in tfidf_vectors_df.columns:\n",
    "    if tfidf_vectors_df[col].sum() > threshold:\n",
    "        keep_col.append(col)"
   ]
  },
  {
   "cell_type": "code",
   "execution_count": 208,
   "id": "52f96c50-2018-4127-b063-d42d559a5c42",
   "metadata": {},
   "outputs": [
    {
     "data": {
      "text/plain": [
       "2999"
      ]
     },
     "execution_count": 208,
     "metadata": {},
     "output_type": "execute_result"
    }
   ],
   "source": [
    "len(keep_col)"
   ]
  },
  {
   "cell_type": "code",
   "execution_count": 209,
   "id": "83b912c5-d8c7-419e-b693-8a7fba1f2810",
   "metadata": {},
   "outputs": [
    {
     "data": {
      "text/plain": [
       "(5612, 2999)"
      ]
     },
     "execution_count": 209,
     "metadata": {},
     "output_type": "execute_result"
    }
   ],
   "source": [
    "tfidf_select_thres = tfidf_vectors_df[keep_col]\n",
    "tfidf_select_thres.shape"
   ]
  },
  {
   "cell_type": "markdown",
   "id": "54720580-10f8-4ddc-9194-ccf33d25c606",
   "metadata": {},
   "source": [
    "### PCA"
   ]
  },
  {
   "cell_type": "code",
   "execution_count": 210,
   "id": "b3eed4bf-c963-4491-aff4-1275f5090774",
   "metadata": {},
   "outputs": [],
   "source": [
    "from sklearn.decomposition import PCA,KernelPCA\n",
    "from sklearn.manifold import MDS"
   ]
  },
  {
   "cell_type": "code",
   "execution_count": 211,
   "id": "5d799bdb-9415-4637-a60b-feb7fcdf2092",
   "metadata": {},
   "outputs": [],
   "source": [
    "pca = PCA(n_components=512, copy=True)\n",
    "newX = pca.fit_transform(tfidf_select_thres)"
   ]
  },
  {
   "cell_type": "code",
   "execution_count": 212,
   "id": "4699ebcd-ad9f-423c-ae76-52b3d6f3f94d",
   "metadata": {},
   "outputs": [],
   "source": [
    "pca_col = []\n",
    "for i in range(512):\n",
    "    pca_col.append(\"PC_\"+str(i+1))\n",
    "temp = pd.DataFrame(newX, columns=pca_col)"
   ]
  },
  {
   "cell_type": "code",
   "execution_count": 213,
   "id": "663fec41-d82e-48c1-810a-346dbacf8e9b",
   "metadata": {},
   "outputs": [
    {
     "name": "stdout",
     "output_type": "stream",
     "text": [
      "(5612, 512)\n",
      "(5612,)\n"
     ]
    }
   ],
   "source": [
    "print(temp.shape)\n",
    "print(df['success_x'].shape)"
   ]
  },
  {
   "cell_type": "code",
   "execution_count": 214,
   "id": "9ff7ac49-a208-4e4b-8040-e68b6ec16aab",
   "metadata": {},
   "outputs": [],
   "source": [
    "pca_512 = pd.concat([df['id'],temp, df['success_x']], axis=1)"
   ]
  },
  {
   "cell_type": "code",
   "execution_count": 215,
   "id": "5630d171-321d-40e1-82a8-007f7fded68d",
   "metadata": {},
   "outputs": [],
   "source": [
    "pca_512 = pca_512.dropna()"
   ]
  },
  {
   "cell_type": "code",
   "execution_count": 216,
   "id": "7a8ca65f-7b27-4dea-a614-a2a748e98cad",
   "metadata": {},
   "outputs": [
    {
     "data": {
      "text/plain": [
       "(5612, 514)"
      ]
     },
     "execution_count": 216,
     "metadata": {},
     "output_type": "execute_result"
    }
   ],
   "source": [
    "pca_512.shape"
   ]
  },
  {
   "cell_type": "code",
   "execution_count": 217,
   "id": "866f4f34-2677-4215-a653-a2faa5d00dc9",
   "metadata": {},
   "outputs": [],
   "source": [
    "pd.DataFrame(pca_512).to_csv('pca_512_0.csv', header=True, index=False)"
   ]
  },
  {
   "cell_type": "markdown",
   "id": "fccf4803-b095-4dd2-8f35-741869ebb0c3",
   "metadata": {},
   "source": [
    "### Kernel PCA"
   ]
  },
  {
   "cell_type": "code",
   "execution_count": 218,
   "id": "715f7ee6-4560-4362-8ee4-9a4d0e2b3bd6",
   "metadata": {},
   "outputs": [],
   "source": [
    "k_pca = KernelPCA(n_components=512, kernel='cosine')\n",
    "k_pca_x = k_pca.fit_transform(tfidf_select_thres)"
   ]
  },
  {
   "cell_type": "code",
   "execution_count": 219,
   "id": "58993b41-9d8d-4a34-954f-16fe80ec33a3",
   "metadata": {},
   "outputs": [],
   "source": [
    "kpca_col = []\n",
    "for i in range(512):\n",
    "    kpca_col.append(\"KernelPCA_\"+str(i+1))\n",
    "kpca_vectors = pd.DataFrame(k_pca_x, columns=kpca_col)"
   ]
  },
  {
   "cell_type": "code",
   "execution_count": 220,
   "id": "14210109-1172-4571-9d6d-6d287781815a",
   "metadata": {},
   "outputs": [],
   "source": [
    "kpca_512 = pd.concat([df['id'], kpca_vectors, df['success_x']], axis=1)\n",
    "kpca_512 = kpca_512.dropna()"
   ]
  },
  {
   "cell_type": "code",
   "execution_count": 221,
   "id": "479c2ea2-6d85-4af2-a0de-8a4815fdb0f2",
   "metadata": {},
   "outputs": [
    {
     "data": {
      "text/plain": [
       "(5612, 514)"
      ]
     },
     "execution_count": 221,
     "metadata": {},
     "output_type": "execute_result"
    }
   ],
   "source": [
    "kpca_512.shape"
   ]
  },
  {
   "cell_type": "code",
   "execution_count": 222,
   "id": "1cbbaa17-b6ce-445d-92db-fb5bcbec8ad3",
   "metadata": {},
   "outputs": [],
   "source": [
    "pd.DataFrame(kpca_512).to_csv('kpca_512_0.csv', header=True, index=False)"
   ]
  },
  {
   "cell_type": "markdown",
   "id": "9f8d4229-13ec-47ce-99b9-420091c0c3dc",
   "metadata": {},
   "source": [
    "### MDS"
   ]
  },
  {
   "cell_type": "code",
   "execution_count": 30,
   "id": "101b1468-b27f-47df-a1e3-f4b64f30ed72",
   "metadata": {},
   "outputs": [],
   "source": [
    "metric_mds = MDS(n_components=512, metric=True)"
   ]
  },
  {
   "cell_type": "code",
   "execution_count": 73,
   "id": "8762529c-dd1e-4490-90cf-534c99a75158",
   "metadata": {},
   "outputs": [],
   "source": [
    "mds_x = metric_mds.fit_transform(tfidf_select_thres)"
   ]
  },
  {
   "cell_type": "code",
   "execution_count": 74,
   "id": "a92babe7-86d3-4bc6-b500-4be6f25dbd19",
   "metadata": {},
   "outputs": [],
   "source": [
    "mds_col = []\n",
    "for i in range(512):\n",
    "    mds_col.append(\"MDS_\"+str(i+1))\n",
    "mds_vectors = pd.DataFrame(mds_x, columns=mds_col)"
   ]
  },
  {
   "cell_type": "code",
   "execution_count": 75,
   "id": "8d30d804-53de-46c7-be89-e377f925e822",
   "metadata": {},
   "outputs": [],
   "source": [
    "mds_512 = pd.concat([df['id'],mds_vectors, df['success_x']], axis=1)"
   ]
  },
  {
   "cell_type": "code",
   "execution_count": 76,
   "id": "e8b73208-8861-4b2f-ba07-e865777f1194",
   "metadata": {},
   "outputs": [],
   "source": [
    "pd.DataFrame(mds_512).to_csv('mds_512_np.csv', header=True, index=False)"
   ]
  },
  {
   "cell_type": "markdown",
   "id": "e9693dbf-282c-4657-aeb9-508004592070",
   "metadata": {},
   "source": [
    "### CountVectorizer"
   ]
  },
  {
   "cell_type": "code",
   "execution_count": 8,
   "id": "6491a54d-677f-459a-a584-3d04f614c810",
   "metadata": {},
   "outputs": [],
   "source": [
    "from sklearn.feature_extraction.text import CountVectorizer"
   ]
  },
  {
   "cell_type": "code",
   "execution_count": 9,
   "id": "c9593a0b-2378-4292-986d-2e47ef7b14a3",
   "metadata": {},
   "outputs": [
    {
     "name": "stderr",
     "output_type": "stream",
     "text": [
      "C:\\Users\\user\\anaconda3\\lib\\site-packages\\sklearn\\utils\\deprecation.py:87: FutureWarning: Function get_feature_names is deprecated; get_feature_names is deprecated in 1.0 and will be removed in 1.2. Please use get_feature_names_out instead.\n",
      "  warnings.warn(msg, category=FutureWarning)\n"
     ]
    }
   ],
   "source": [
    "cv = CountVectorizer(max_features=4000)\n",
    "cv_x = cv.fit_transform(df['merged_content_text'])\n",
    "cv_xy = pd.DataFrame(cv_x.toarray(), columns=cv.get_feature_names())"
   ]
  },
  {
   "cell_type": "code",
   "execution_count": 10,
   "id": "66cb64ff-ad57-43dc-9266-a2460e10634e",
   "metadata": {},
   "outputs": [
    {
     "data": {
      "text/plain": [
       "(5612, 4000)"
      ]
     },
     "execution_count": 10,
     "metadata": {},
     "output_type": "execute_result"
    }
   ],
   "source": [
    "cv_xy.shape"
   ]
  },
  {
   "cell_type": "code",
   "execution_count": 11,
   "id": "1f14312f-d670-4d19-8a71-35c1367b95f8",
   "metadata": {},
   "outputs": [],
   "source": [
    "cv_4000 = pd.concat([df['id'],cv_xy, df['success_x']], axis=1)"
   ]
  },
  {
   "cell_type": "code",
   "execution_count": 227,
   "id": "57d741c0-4fe2-4e81-8537-c740d14743e5",
   "metadata": {},
   "outputs": [],
   "source": [
    "pd.DataFrame(cv_4000).to_csv('cv_4000_0.csv', header=True, index=False)"
   ]
  },
  {
   "cell_type": "code",
   "execution_count": 12,
   "id": "330ffcfb-ed8e-44ae-a6e9-98ec0b20594b",
   "metadata": {},
   "outputs": [
    {
     "data": {
      "text/plain": [
       "Index(['id', '一一', '一下', '一併', '一半', '一同', '一定', '一手', '一月', '一生',\n",
       "       ...\n",
       "       '默默', '點心', '點擊', '點綴', '點選', '黴菌', '鼓勵', '齊全', '龐大', 'success_x'],\n",
       "      dtype='object', length=4002)"
      ]
     },
     "execution_count": 12,
     "metadata": {},
     "output_type": "execute_result"
    }
   ],
   "source": [
    "cv_4000.columns"
   ]
  },
  {
   "cell_type": "markdown",
   "id": "c32845c0-4a0f-4fe9-baa1-9da2b25269a9",
   "metadata": {},
   "source": [
    "### Chi square"
   ]
  },
  {
   "cell_type": "code",
   "execution_count": 229,
   "id": "5982e512-6051-430f-8226-94d7c07ddaa9",
   "metadata": {},
   "outputs": [],
   "source": [
    "# Chi-Square\n",
    "from sklearn.feature_selection import SelectFdr\n",
    "from sklearn.feature_selection import chi2"
   ]
  },
  {
   "cell_type": "code",
   "execution_count": 230,
   "id": "fcad545f-63de-4339-bd3d-2e7a473c3b7d",
   "metadata": {},
   "outputs": [],
   "source": [
    "cv_2 = CountVectorizer()\n",
    "cv_x_2 = cv_2.fit_transform(df['merged_content_text'])\n",
    "cv_xy_2 = pd.DataFrame(cv_x_2.toarray(), columns=cv_2.get_feature_names())"
   ]
  },
  {
   "cell_type": "code",
   "execution_count": 231,
   "id": "bb7a397a-bcc2-48f1-897e-c2cf72bff975",
   "metadata": {},
   "outputs": [
    {
     "data": {
      "text/plain": [
       "SelectFdr(score_func=<function chi2 at 0x000001CD1D36F820>)"
      ]
     },
     "execution_count": 231,
     "metadata": {},
     "output_type": "execute_result"
    }
   ],
   "source": [
    "feature_selector = SelectFdr(chi2, alpha=0.05)\n",
    "feature_selector.fit(cv_xy_2, df['success_x'])"
   ]
  },
  {
   "cell_type": "code",
   "execution_count": 232,
   "id": "d39857e0-b540-42cd-812a-d71687f6697c",
   "metadata": {},
   "outputs": [],
   "source": [
    "chi2_X = feature_selector.transform(cv_xy_2)"
   ]
  },
  {
   "cell_type": "code",
   "execution_count": 233,
   "id": "d380032a-ba30-4cdf-9089-dd5162584472",
   "metadata": {},
   "outputs": [
    {
     "data": {
      "text/plain": [
       "(5612, 4314)"
      ]
     },
     "execution_count": 233,
     "metadata": {},
     "output_type": "execute_result"
    }
   ],
   "source": [
    "chi2_X.shape"
   ]
  },
  {
   "cell_type": "code",
   "execution_count": 234,
   "id": "56d5f8d1-9edc-4a85-a647-c07fed0ad6d9",
   "metadata": {},
   "outputs": [],
   "source": [
    "chi2_X_df = pd.DataFrame(chi2_X)\n",
    "chi_6238 = pd.concat([df['id'],chi2_X_df, df['success_x']], axis=1)"
   ]
  },
  {
   "cell_type": "code",
   "execution_count": 235,
   "id": "b98def82-fc82-4ff7-9468-901789919d44",
   "metadata": {},
   "outputs": [
    {
     "data": {
      "text/plain": [
       "(5612, 4316)"
      ]
     },
     "execution_count": 235,
     "metadata": {},
     "output_type": "execute_result"
    }
   ],
   "source": [
    "chi_6238.shape"
   ]
  },
  {
   "cell_type": "code",
   "execution_count": 236,
   "id": "e0ea036b-5910-46ac-9d8f-5db1c5d8347d",
   "metadata": {},
   "outputs": [],
   "source": [
    "pd.DataFrame(chi_6238).to_csv('chi_0.csv', header=True, index=False)"
   ]
  },
  {
   "cell_type": "markdown",
   "id": "50ebb866-5981-48d5-b5c0-6c83d01f370b",
   "metadata": {},
   "source": [
    "### Tfidf 4000"
   ]
  },
  {
   "cell_type": "code",
   "execution_count": 237,
   "id": "7349e4aa-9017-4db2-abbf-cb6cf8496b92",
   "metadata": {},
   "outputs": [],
   "source": [
    "vectorizer = TfidfVectorizer(max_features=4000)\n",
    "\n",
    "tfidf_x = vectorizer.fit_transform(df['merged_content_text'])"
   ]
  },
  {
   "cell_type": "code",
   "execution_count": 238,
   "id": "0c26f8b5-5ab3-4ccd-853c-0aa41ea537d3",
   "metadata": {},
   "outputs": [
    {
     "name": "stderr",
     "output_type": "stream",
     "text": [
      "C:\\Users\\user\\anaconda3\\lib\\site-packages\\sklearn\\utils\\deprecation.py:87: FutureWarning: Function get_feature_names is deprecated; get_feature_names is deprecated in 1.0 and will be removed in 1.2. Please use get_feature_names_out instead.\n",
      "  warnings.warn(msg, category=FutureWarning)\n"
     ]
    }
   ],
   "source": [
    "tfidf_4000 = pd.DataFrame(tfidf_x.toarray(), columns=vectorizer.get_feature_names())\n",
    "\n",
    "tfidf_4000 = pd.concat([df['id'],tfidf_4000, df['success_x']], axis=1)"
   ]
  },
  {
   "cell_type": "code",
   "execution_count": 239,
   "id": "f3c6146b-65b1-438f-9e93-f77afa5ab261",
   "metadata": {},
   "outputs": [],
   "source": [
    "pd.DataFrame(tfidf_4000).to_csv('tfidf_4000_1.csv', header=True, index=False)"
   ]
  },
  {
   "cell_type": "markdown",
   "id": "78a6ae33-44f1-49ec-8379-45bd03542d68",
   "metadata": {},
   "source": [
    "### Log likelihood"
   ]
  },
  {
   "cell_type": "code",
   "execution_count": 279,
   "id": "47118250-ad18-4d83-bc36-d3e44143f008",
   "metadata": {},
   "outputs": [],
   "source": [
    "import numpy as np"
   ]
  },
  {
   "cell_type": "code",
   "execution_count": 280,
   "id": "1ca53407-65fc-4a3f-805f-76b6cc6d57cc",
   "metadata": {},
   "outputs": [
    {
     "name": "stderr",
     "output_type": "stream",
     "text": [
      "C:\\Users\\user\\anaconda3\\lib\\site-packages\\sklearn\\utils\\deprecation.py:87: FutureWarning: Function get_feature_names is deprecated; get_feature_names is deprecated in 1.0 and will be removed in 1.2. Please use get_feature_names_out instead.\n",
      "  warnings.warn(msg, category=FutureWarning)\n"
     ]
    }
   ],
   "source": [
    "cv = CountVectorizer(max_features=8000)\n",
    "x = cv.fit_transform(df['merged_content_text'])\n",
    "x_df = pd.DataFrame(x.toarray(), columns=cv.get_feature_names())"
   ]
  },
  {
   "cell_type": "code",
   "execution_count": 281,
   "id": "d7374880-391e-468c-a75e-cf55fff8e247",
   "metadata": {},
   "outputs": [],
   "source": [
    "log_8000 = pd.concat([df['id'],x_df, df['success_x']], axis=1)"
   ]
  },
  {
   "cell_type": "code",
   "execution_count": 282,
   "id": "10a4458b-30fb-4d2a-9d91-1cb74e4043b1",
   "metadata": {},
   "outputs": [],
   "source": [
    "log_success = log_8000[log_8000['success_x']==1]"
   ]
  },
  {
   "cell_type": "code",
   "execution_count": 283,
   "id": "76626705-c784-4316-aaa6-5f81daf8a0fb",
   "metadata": {},
   "outputs": [],
   "source": [
    "log_f = log_8000[log_8000['success_x']==0]"
   ]
  },
  {
   "cell_type": "code",
   "execution_count": 284,
   "id": "d860b2ae-c914-47f2-8d13-aebc7d42a88b",
   "metadata": {},
   "outputs": [
    {
     "data": {
      "text/plain": [
       "Index(['id', '一一', '一下', '一併', '一個個', '一共', '一再', '一半', '一口', '一同',\n",
       "       ...\n",
       "       '黴菌', '鼓勵', '鼓舞', '鼻子', '齊全', '齒輪', '龍眼', '龍頭', '龐大', 'success_x'],\n",
       "      dtype='object', length=8002)"
      ]
     },
     "execution_count": 284,
     "metadata": {},
     "output_type": "execute_result"
    }
   ],
   "source": [
    "log_8000.columns"
   ]
  },
  {
   "cell_type": "code",
   "execution_count": 285,
   "id": "72b6c67b-bfb1-4c15-9a88-da3cbd968ba9",
   "metadata": {},
   "outputs": [
    {
     "data": {
      "text/plain": [
       "289"
      ]
     },
     "execution_count": 285,
     "metadata": {},
     "output_type": "execute_result"
    }
   ],
   "source": [
    "log_8000['一一'].sum()"
   ]
  },
  {
   "cell_type": "code",
   "execution_count": 286,
   "id": "56c2de13-b5bc-46b6-94fb-4d0a067b5dc8",
   "metadata": {},
   "outputs": [],
   "source": [
    "def likelihood(column):\n",
    "    n11 = log_success[column].sum() +1\n",
    "    n01 = log_f[column].sum() +1\n",
    "    n10 = log_success.shape[0] - n11 +1\n",
    "    n00 = log_f.shape[0] - n01 +1\n",
    "\n",
    "    pt = (n11+n01) / (log_success.shape[0]+log_f.shape[0]+4)\n",
    "    p1 = n11/(n11+n10)\n",
    "    p2 = n01/(n01+n00)\n",
    "    \n",
    "    score = -2*np.log((pt**n11 * (1-pt)**n10 * pt**n01 * (1-pt)**n00)/(p1**n11 * (1-p1)**n10) * p2**n01 * (1-p2)**n00)\n",
    "    return score"
   ]
  },
  {
   "cell_type": "code",
   "execution_count": 287,
   "id": "dbc62cb8-22dd-4ef3-a0f6-168abc1ea2ca",
   "metadata": {},
   "outputs": [
    {
     "name": "stderr",
     "output_type": "stream",
     "text": [
      "<ipython-input-286-18036642dbf6>:11: RuntimeWarning: invalid value encountered in double_scalars\n",
      "  score = -2*np.log((pt**n11 * (1-pt)**n10 * pt**n01 * (1-pt)**n00)/(p1**n11 * (1-p1)**n10) * p2**n01 * (1-p2)**n00)\n",
      "<ipython-input-286-18036642dbf6>:11: RuntimeWarning: divide by zero encountered in log\n",
      "  score = -2*np.log((pt**n11 * (1-pt)**n10 * pt**n01 * (1-pt)**n00)/(p1**n11 * (1-p1)**n10) * p2**n01 * (1-p2)**n00)\n",
      "<ipython-input-286-18036642dbf6>:11: RuntimeWarning: overflow encountered in double_scalars\n",
      "  score = -2*np.log((pt**n11 * (1-pt)**n10 * pt**n01 * (1-pt)**n00)/(p1**n11 * (1-p1)**n10) * p2**n01 * (1-p2)**n00)\n",
      "<ipython-input-286-18036642dbf6>:11: RuntimeWarning: invalid value encountered in log\n",
      "  score = -2*np.log((pt**n11 * (1-pt)**n10 * pt**n01 * (1-pt)**n00)/(p1**n11 * (1-p1)**n10) * p2**n01 * (1-p2)**n00)\n"
     ]
    }
   ],
   "source": [
    "scores = {}\n",
    "for column in log_8000.columns:\n",
    "    if column == 'id'or column == 'success_x':\n",
    "        continue\n",
    "    else:\n",
    "        scores[column] = likelihood(column)"
   ]
  },
  {
   "cell_type": "code",
   "execution_count": 288,
   "id": "274f9494-10ad-4abd-83c8-2222963b04bd",
   "metadata": {},
   "outputs": [],
   "source": [
    "sort = sorted(scores.items(), key=lambda x: x[1], reverse=True)\n",
    "wanted_col = []\n",
    "count = 0\n",
    "for combine in sort:\n",
    "    wanted_col.append(combine[0])\n",
    "    count += 1\n",
    "    if count >= 4000:\n",
    "        break"
   ]
  },
  {
   "cell_type": "code",
   "execution_count": 289,
   "id": "b6ee3595-46fe-403d-b2a1-942582f886a1",
   "metadata": {},
   "outputs": [
    {
     "data": {
      "text/plain": [
       "4000"
      ]
     },
     "execution_count": 289,
     "metadata": {},
     "output_type": "execute_result"
    }
   ],
   "source": [
    "len(wanted_col)"
   ]
  },
  {
   "cell_type": "code",
   "execution_count": 290,
   "id": "227fb210-0068-4be1-a5cd-f5be0497b985",
   "metadata": {},
   "outputs": [],
   "source": [
    "log_4000 = pd.concat([df['id'], log_8000[wanted_col], df['success_x']], axis=1)"
   ]
  },
  {
   "cell_type": "code",
   "execution_count": 252,
   "id": "cbc3ce68-d026-40c6-a99b-07bc82881a0c",
   "metadata": {},
   "outputs": [
    {
     "data": {
      "text/plain": [
       "(5612, 4002)"
      ]
     },
     "execution_count": 252,
     "metadata": {},
     "output_type": "execute_result"
    }
   ],
   "source": [
    "log_4000.shape"
   ]
  },
  {
   "cell_type": "code",
   "execution_count": 253,
   "id": "2ad96374-7baf-4251-8b2a-a82b6a29902d",
   "metadata": {},
   "outputs": [],
   "source": [
    "pd.DataFrame(log_4000).to_csv('log_4000_0.csv', header=True, index=False)"
   ]
  },
  {
   "cell_type": "code",
   "execution_count": 254,
   "id": "f5133bf2-c4e3-44d1-bcab-c7f9a3d2c0ae",
   "metadata": {},
   "outputs": [
    {
     "data": {
      "text/plain": [
       "Index(['一家人', '一度', '上山下海', '一貫', '一瞬間', '一日', '一目瞭然', '一再', '一口', '一但', '一萬',\n",
       "       '上山', '一隅', '一張張', '一口氣', '三創', '上市', '上手', '上方', '上架', '上海', '上班',\n",
       "       '上班族', '上線', '上色', '上蓋', '上百', '上演', '上台', '上網'],\n",
       "      dtype='object')"
      ]
     },
     "execution_count": 254,
     "metadata": {},
     "output_type": "execute_result"
    }
   ],
   "source": [
    "log_4000.columns[50:80:]"
   ]
  },
  {
   "cell_type": "markdown",
   "id": "b8316b98",
   "metadata": {},
   "source": [
    "## Model Evaluation"
   ]
  },
  {
   "cell_type": "markdown",
   "id": "fa5e29a0-c38c-4904-9931-00a3499af89f",
   "metadata": {},
   "source": [
    "### Logistic regression"
   ]
  },
  {
   "cell_type": "code",
   "execution_count": 13,
   "id": "2bd9e2cc-d455-4f18-a689-6b0b9b79e0fa",
   "metadata": {},
   "outputs": [],
   "source": [
    "train = cv_4000.sample(4500)\n",
    "test = cv_4000.sample(1000)\n",
    "\n",
    "X_train = train.iloc[:, 1:-2]\n",
    "y_train = train.iloc[:, -1]\n",
    "X_test = test.iloc[:,1:-2]\n",
    "y_test = test.iloc[:, -1]"
   ]
  },
  {
   "cell_type": "code",
   "execution_count": 14,
   "id": "c47bb1e1-271b-45f7-963a-3abf438ca1a7",
   "metadata": {},
   "outputs": [
    {
     "name": "stdout",
     "output_type": "stream",
     "text": [
      "train ACC: 0.932\n"
     ]
    },
    {
     "name": "stderr",
     "output_type": "stream",
     "text": [
      "C:\\Users\\user\\anaconda3\\lib\\site-packages\\sklearn\\linear_model\\_logistic.py:814: ConvergenceWarning: lbfgs failed to converge (status=1):\n",
      "STOP: TOTAL NO. of ITERATIONS REACHED LIMIT.\n",
      "\n",
      "Increase the number of iterations (max_iter) or scale the data as shown in:\n",
      "    https://scikit-learn.org/stable/modules/preprocessing.html\n",
      "Please also refer to the documentation for alternative solver options:\n",
      "    https://scikit-learn.org/stable/modules/linear_model.html#logistic-regression\n",
      "  n_iter_i = _check_optimize_result(\n"
     ]
    }
   ],
   "source": [
    "from sklearn.linear_model import LogisticRegression\n",
    "lr = LogisticRegression()\n",
    "lr.fit(X_train, y_train)\n",
    "y_test_predictions = lr.predict(X_test)\n",
    "print (\"train ACC:\",(y_test_predictions == y_test).sum().astype(float) / y_test.shape[0])"
   ]
  },
  {
   "cell_type": "code",
   "execution_count": 257,
   "id": "0f2f414b-fc72-45b1-934d-caa44d90ccac",
   "metadata": {},
   "outputs": [
    {
     "data": {
      "text/plain": [
       "3999"
      ]
     },
     "execution_count": 257,
     "metadata": {},
     "output_type": "execute_result"
    }
   ],
   "source": [
    "len(lr.coef_[0])"
   ]
  },
  {
   "cell_type": "markdown",
   "id": "44c88407-fd79-41d1-8707-d8a582bff238",
   "metadata": {},
   "source": [
    "## Analysis\n",
    "> *Frequent term in success/fail scenarios*"
   ]
  },
  {
   "cell_type": "code",
   "execution_count": 30,
   "id": "d2eadada-3a17-4d9e-ac95-f0123b20f7b7",
   "metadata": {},
   "outputs": [],
   "source": [
    "suc = cv_4000[cv_4000['success_x']==1]\n",
    "fal = cv_4000[cv_4000['success_x']==0]"
   ]
  },
  {
   "cell_type": "code",
   "execution_count": 31,
   "id": "2ca2769e-3ba1-4a0b-bd8c-eec967ced4ed",
   "metadata": {},
   "outputs": [
    {
     "name": "stdout",
     "output_type": "stream",
     "text": [
      "(4286, 4002)\n",
      "(1326, 4002)\n"
     ]
    }
   ],
   "source": [
    "print(suc.shape)\n",
    "print(fal.shape)"
   ]
  },
  {
   "cell_type": "code",
   "execution_count": 32,
   "id": "057a9e8a-379e-43dd-b8e2-d12b5cf3ebb1",
   "metadata": {},
   "outputs": [
    {
     "data": {
      "text/plain": [
       "Index(['id', '一一', '一下', '一併', '一半', '一同', '一定', '一手', '一月', '一生',\n",
       "       ...\n",
       "       '默默', '點心', '點擊', '點綴', '點選', '黴菌', '鼓勵', '齊全', '龐大', 'success_x'],\n",
       "      dtype='object', length=4002)"
      ]
     },
     "execution_count": 32,
     "metadata": {},
     "output_type": "execute_result"
    }
   ],
   "source": [
    "suc.columns"
   ]
  },
  {
   "cell_type": "code",
   "execution_count": 33,
   "id": "072b1284-85e9-4537-a3eb-d868d83cc60e",
   "metadata": {},
   "outputs": [],
   "source": [
    "suc = suc.drop(['id', 'success_x'], axis=1)\n",
    "fal = fal.drop(['id', 'success_x'], axis=1)"
   ]
  },
  {
   "cell_type": "code",
   "execution_count": 39,
   "id": "4b961aad-592d-4b77-aebd-efe56765282c",
   "metadata": {},
   "outputs": [],
   "source": [
    "sd = {}\n",
    "fd = {}"
   ]
  },
  {
   "cell_type": "code",
   "execution_count": 40,
   "id": "0efff96e-2634-4b64-acd5-ec126080cc2e",
   "metadata": {},
   "outputs": [],
   "source": [
    "for col in suc.columns:\n",
    "    sd[col]=suc[col].sum()\n",
    "    fd[col]=fal[col].sum()"
   ]
  },
  {
   "cell_type": "code",
   "execution_count": 41,
   "id": "8b760160-8df2-4bb8-847e-4e13d5c4a8c4",
   "metadata": {},
   "outputs": [],
   "source": [
    "sd_l = sorted(sd.items(), key=lambda x: x[1], reverse=True)\n",
    "fd_l = sorted(fd.items(), key=lambda x: x[1], reverse=True)"
   ]
  },
  {
   "cell_type": "markdown",
   "id": "019967d7-6fea-4e92-b4bf-abc18372b64d",
   "metadata": {},
   "source": [
    "### Different Set from Top 500 words"
   ]
  },
  {
   "cell_type": "code",
   "execution_count": 50,
   "id": "4cb209c4-8e40-4f6d-8232-6ab35f2e478e",
   "metadata": {},
   "outputs": [],
   "source": [
    "s_set = set()\n",
    "f_set = set()\n",
    "for i in range(500):\n",
    "    s_set.add(sd_l[i][0])\n",
    "    f_set.add(fd_l[i][0])"
   ]
  },
  {
   "cell_type": "code",
   "execution_count": 51,
   "id": "7a82562e-9cae-43c2-80d5-1cf91289950d",
   "metadata": {},
   "outputs": [
    {
     "data": {
      "text/plain": [
       "{'不易',\n",
       " '今年',\n",
       " '保護法',\n",
       " '加購',\n",
       " '升級',\n",
       " '原價',\n",
       " '原廠',\n",
       " '原料',\n",
       " '口袋',\n",
       " '可愛',\n",
       " '售價',\n",
       " '回收',\n",
       " '地球',\n",
       " '壓力',\n",
       " '媒體',\n",
       " '守護',\n",
       " '容量',\n",
       " '市面',\n",
       " '彈性',\n",
       " '情緒',\n",
       " '想像',\n",
       " '感覺',\n",
       " '戶外',\n",
       " '探索',\n",
       " '推薦',\n",
       " '支援',\n",
       " '文件',\n",
       " '料理',\n",
       " '日曆',\n",
       " '機能',\n",
       " '檢測',\n",
       " '正常',\n",
       " '正式',\n",
       " '永續',\n",
       " '添加',\n",
       " '清洗',\n",
       " '物流',\n",
       " '玻璃',\n",
       " '療癒',\n",
       " '皮革',\n",
       " '睡眠',\n",
       " '穩定',\n",
       " '精油',\n",
       " '耳機',\n",
       " '股份',\n",
       " '螢幕',\n",
       " '裝置',\n",
       " '角度',\n",
       " '訂單',\n",
       " '記憶',\n",
       " '試用期',\n",
       " '變化',\n",
       " '貓咪',\n",
       " '透氣',\n",
       " '過去',\n",
       " '達標',\n",
       " '隨身',\n",
       " '高度'}"
      ]
     },
     "execution_count": 51,
     "metadata": {},
     "output_type": "execute_result"
    }
   ],
   "source": [
    "s_set-f_set"
   ]
  },
  {
   "cell_type": "code",
   "execution_count": 52,
   "id": "e09511ac-a81b-4bed-b9ec-7da5d1ad4b06",
   "metadata": {},
   "outputs": [
    {
     "data": {
      "text/plain": [
       "{'不能',\n",
       " '之間',\n",
       " '人員',\n",
       " '企業',\n",
       " '元素',\n",
       " '公益',\n",
       " '出版',\n",
       " '出現',\n",
       " '包包',\n",
       " '取得',\n",
       " '固定',\n",
       " '土地',\n",
       " '地區',\n",
       " '地點',\n",
       " '存在',\n",
       " '學校',\n",
       " '家人',\n",
       " '寄送',\n",
       " '寵物',\n",
       " '展覽',\n",
       " '工作室',\n",
       " '廠商',\n",
       " '後續',\n",
       " '得到',\n",
       " '思考',\n",
       " '想法',\n",
       " '應用',\n",
       " '接觸',\n",
       " '控制',\n",
       " '推廣',\n",
       " '提醒',\n",
       " '插畫',\n",
       " '改善',\n",
       " '教學',\n",
       " '數位',\n",
       " '數量',\n",
       " '毛孩',\n",
       " '溫暖',\n",
       " '為主',\n",
       " '畢業',\n",
       " '病毒',\n",
       " '知識',\n",
       " '管理',\n",
       " '經歷',\n",
       " '網站',\n",
       " '網路',\n",
       " '線上',\n",
       " '繼續',\n",
       " '自我',\n",
       " '舉辦',\n",
       " '表演',\n",
       " '設備',\n",
       " '議題',\n",
       " '資金',\n",
       " '退換貨',\n",
       " '遇到',\n",
       " '領域',\n",
       " '願意'}"
      ]
     },
     "execution_count": 52,
     "metadata": {},
     "output_type": "execute_result"
    }
   ],
   "source": [
    "f_set-s_set"
   ]
  },
  {
   "cell_type": "code",
   "execution_count": null,
   "id": "30d358f0-e175-46b3-8f3c-db3e49eec16c",
   "metadata": {},
   "outputs": [],
   "source": []
  }
 ],
 "metadata": {
  "kernelspec": {
   "display_name": "Python 3",
   "language": "python",
   "name": "python3"
  },
  "language_info": {
   "codemirror_mode": {
    "name": "ipython",
    "version": 3
   },
   "file_extension": ".py",
   "mimetype": "text/x-python",
   "name": "python",
   "nbconvert_exporter": "python",
   "pygments_lexer": "ipython3",
   "version": "3.10.13"
  }
 },
 "nbformat": 4,
 "nbformat_minor": 5
}
